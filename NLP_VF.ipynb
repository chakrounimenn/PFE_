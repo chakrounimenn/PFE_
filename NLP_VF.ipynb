{
 "cells": [
  {
   "cell_type": "code",
   "execution_count": 1,
   "id": "e6fb5757",
   "metadata": {},
   "outputs": [],
   "source": [
    "import os\n",
    "import joblib\n",
    "import pandas as pd\n",
    "import re\n",
    "import sys\n",
    "from sklearn.model_selection import train_test_split\n",
    "from sklearn.feature_extraction.text import TfidfVectorizer, CountVectorizer\n",
    "from sklearn.svm import LinearSVC\n",
    "from sklearn.pipeline import Pipeline\n",
    "from sklearn.model_selection import GridSearchCV\n",
    "from sklearn.metrics import precision_score, recall_score, f1_score, accuracy_score"
   ]
  },
  {
   "cell_type": "code",
   "execution_count": 2,
   "id": "b2a0f9c9",
   "metadata": {},
   "outputs": [],
   "source": [
    "def preprocess_text(text):\n",
    "    # Suppression des caractères spéciaux\n",
    "    text = re.sub(r\"[^a-zA-ZÀ-ÿ0-9\\s]\", \"\", text)\n",
    "    \n",
    "    # Suppression des espaces après la suppression des caractères spéciaux\n",
    "    text = text.strip()\n",
    "    \n",
    "    # Suppression de la ponctuation\n",
    "    text = re.sub(r\"[^\\w\\s]\", \"\", text)\n",
    "    # Suppression des chiffres\n",
    "    text = re.sub(r\"\\d\", \"\", text)\n",
    "    text = text.replace('&', '')\n",
    "    # Convertir le texte en minuscules\n",
    "    text = text.lower()\n",
    "    # Remplacer les doubles espaces par un seul espace\n",
    "    text = re.sub(r'\\s+', ' ', text)\n",
    "  \n",
    "  \n",
    "    return text"
   ]
  },
  {
   "cell_type": "code",
   "execution_count": 3,
   "id": "45615ad1",
   "metadata": {},
   "outputs": [],
   "source": [
    "def charger_fichiers_csv(chemin):\n",
    "    # Obtenir la liste des fichiers dans le chemin spécifié\n",
    "    fichiers = os.listdir(chemin)\n",
    "    \n",
    "    dataframes = []\n",
    "    \n",
    "    # Parcourir chaque fichier dans la liste\n",
    "    for fichier in fichiers:\n",
    "        if fichier.endswith('.csv'):  # Vérifier si le fichier a l'extension .csv\n",
    "            chemin_fichier = os.path.join(chemin, fichier)  # Chemin complet du fichier\n",
    "            \n",
    "            # Charger le fichier CSV dans un DataFrame et l'ajouter à la liste\n",
    "            df = pd.read_csv(chemin_fichier)\n",
    "            dataframes.append(df)\n",
    "\n",
    "     # Combinaison des DataFrames en un seul\n",
    "    df = pd.concat(dataframes, ignore_index=True)\n",
    "\n",
    "    return df"
   ]
  },
  {
   "cell_type": "code",
   "execution_count": 4,
   "id": "2357e3ca",
   "metadata": {},
   "outputs": [],
   "source": [
    "\n",
    "def regrouper_categories(df, mots_cles):\n",
    "    \n",
    "    # Fonction pour vérifier si un mot-clé est présent dans une catégorie\n",
    "    def trouver_mot_cle(categorie, mots_cles):\n",
    "        for mot_cle in mots_cles:\n",
    "            if mot_cle in categorie.lower():\n",
    "                return mot_cle\n",
    "        return None\n",
    "\n",
    "    # Appliquer la fonction trouver_mot_cle à chaque catégorie\n",
    "    df['category'] = df['category'].astype(str).apply(lambda x: trouver_mot_cle(x, mots_cles))\n",
    "\n",
    "    return df"
   ]
  },
  {
   "cell_type": "code",
   "execution_count": 5,
   "id": "173eed71",
   "metadata": {},
   "outputs": [],
   "source": [
    "# -Vectorisation des données \n",
    "#- la recherche des meilleurs paramètres à l'aide de la validation croisée\n",
    "#-entraînement du modèle LinearSVC\n",
    "#-la prédiction des labels sur l'ensemble de test"
   ]
  },
  {
   "cell_type": "code",
   "execution_count": 6,
   "id": "cfb860aa",
   "metadata": {},
   "outputs": [],
   "source": [
    "def train_linear_svc_model(df):\n",
    "    df['category'] = df['category'].fillna('')\n",
    "    df['description'] = df['description'].fillna('')\n",
    "    # Diviser les données en ensembles d'entraînement et de test (par exemple, 80% pour l'entraînement, 20% pour le test)\n",
    "    X_train, X_test, y_train, y_test = train_test_split(df['description'], df['category'], test_size=0.2, random_state=42)\n",
    "    \n",
    "    X_train = X_train.apply(preprocess_text)\n",
    "    X_test = X_test.apply(preprocess_text)\n",
    "    \n",
    "    # Créer une instance de Tf-idfVectorizer ou CountVectorizer\n",
    "    tfidf_vectorizer = TfidfVectorizer()\n",
    "    count_vectorizer = CountVectorizer()\n",
    "    \n",
    "    # Appliquer la vectorisation aux données d'entraînement et de test\n",
    "    X_train_tfidf = tfidf_vectorizer.fit_transform(X_train)\n",
    "    X_test_tfidf = tfidf_vectorizer.transform(X_test)\n",
    "    \n",
    "    X_train_count = count_vectorizer.fit_transform(X_train)\n",
    "    X_test_count = count_vectorizer.transform(X_test)\n",
    "    \n",
    "    # Définir une pipeline avec une vectorisation Tfidf et un classificateur LinearSVC\n",
    "    pipeline = Pipeline([\n",
    "        ('tfidf', TfidfVectorizer()),\n",
    "        ('clf', LinearSVC())\n",
    "    ])\n",
    "    \n",
    "    # Définir les paramètres à tester pour le classificateur LinearSVC\n",
    "    parameters = {\n",
    "        'clf__C': [0.1, 1, 10],\n",
    "        'clf__max_iter': [100, 500, 1000]\n",
    "    }\n",
    "    \n",
    "    # Cross validation\n",
    "    # Utiliser la validation croisée pour trouver les meilleurs paramètres\n",
    "    grid_search = GridSearchCV(pipeline, parameters, cv=5)\n",
    "    grid_search.fit(X_train, y_train)\n",
    "    \n",
    "    # Afficher les meilleurs paramètres et le score obtenu sur l'ensemble de validation\n",
    "    print(\"Meilleurs paramètres : \")\n",
    "    print(grid_search.best_params_)\n",
    "    print(\"Score sur l'ensemble de validation : \")\n",
    "    print(grid_search.best_score_)\n",
    "    \n",
    "    # Créer une instance du classificateur SVM à noyau linéaire avec les meilleurs paramètres trouvés\n",
    "    best_clf = LinearSVC(C=grid_search.best_params_['clf__C'], max_iter=grid_search.best_params_['clf__max_iter'])\n",
    "    \n",
    "    # Entraîner le modèle sur l'ensemble d'entraînement\n",
    "    best_clf.fit(X_train_tfidf, y_train)\n",
    "    \n",
    "    # Prédire les labels sur l'ensemble de test\n",
    "    predictions_SVM = best_clf.predict(X_test_tfidf)\n",
    "    \n",
    "    return best_clf, X_test_tfidf, y_test"
   ]
  },
  {
   "cell_type": "code",
   "execution_count": 7,
   "id": "75bd3278",
   "metadata": {},
   "outputs": [],
   "source": [
    "def evaluate_and_save_model(best_clf, X_test_tfidf, y_test, model_path):\n",
    "    # Faire des prédictions sur l'ensemble de test\n",
    "    y_pred = best_clf.predict(X_test_tfidf)\n",
    "\n",
    "    # Calculer la précision\n",
    "    precision = precision_score(y_test, y_pred, average='weighted')\n",
    "    print(\"Precision:\", precision)\n",
    "\n",
    "    # Calculer le score F1\n",
    "    f1 = f1_score(y_test, y_pred, average='weighted')\n",
    "    print(\"Score F1 sur l'ensemble de test:\", f1)\n",
    "    sys.stdout.flush()\n",
    "    # Calculer l'accuracy\n",
    "    accuracy = accuracy_score(y_test, y_pred)\n",
    "    print(\"Accuracy sur l'ensemble de test:\", accuracy)\n",
    "\n",
    "    # Enregistrer le modèle\n",
    "    joblib.dump(best_clf, model_path)\n"
   ]
  },
  {
   "cell_type": "code",
   "execution_count": 8,
   "id": "cd7d076b",
   "metadata": {},
   "outputs": [
    {
     "name": "stderr",
     "output_type": "stream",
     "text": [
      "C:\\Users\\infoMix\\AppData\\Roaming\\Python\\Python39\\site-packages\\sklearn\\model_selection\\_split.py:700: UserWarning: The least populated class in y has only 1 members, which is less than n_splits=5.\n",
      "  warnings.warn(\n",
      "C:\\Users\\infoMix\\AppData\\Roaming\\Python\\Python39\\site-packages\\sklearn\\svm\\_base.py:1244: ConvergenceWarning: Liblinear failed to converge, increase the number of iterations.\n",
      "  warnings.warn(\n",
      "C:\\Users\\infoMix\\AppData\\Roaming\\Python\\Python39\\site-packages\\sklearn\\svm\\_base.py:1244: ConvergenceWarning: Liblinear failed to converge, increase the number of iterations.\n",
      "  warnings.warn(\n",
      "C:\\Users\\infoMix\\AppData\\Roaming\\Python\\Python39\\site-packages\\sklearn\\svm\\_base.py:1244: ConvergenceWarning: Liblinear failed to converge, increase the number of iterations.\n",
      "  warnings.warn(\n",
      "C:\\Users\\infoMix\\AppData\\Roaming\\Python\\Python39\\site-packages\\sklearn\\svm\\_base.py:1244: ConvergenceWarning: Liblinear failed to converge, increase the number of iterations.\n",
      "  warnings.warn(\n",
      "C:\\Users\\infoMix\\AppData\\Roaming\\Python\\Python39\\site-packages\\sklearn\\svm\\_base.py:1244: ConvergenceWarning: Liblinear failed to converge, increase the number of iterations.\n",
      "  warnings.warn(\n",
      "C:\\Users\\infoMix\\AppData\\Roaming\\Python\\Python39\\site-packages\\sklearn\\svm\\_base.py:1244: ConvergenceWarning: Liblinear failed to converge, increase the number of iterations.\n",
      "  warnings.warn(\n",
      "C:\\Users\\infoMix\\AppData\\Roaming\\Python\\Python39\\site-packages\\sklearn\\svm\\_base.py:1244: ConvergenceWarning: Liblinear failed to converge, increase the number of iterations.\n",
      "  warnings.warn(\n",
      "C:\\Users\\infoMix\\AppData\\Roaming\\Python\\Python39\\site-packages\\sklearn\\svm\\_base.py:1244: ConvergenceWarning: Liblinear failed to converge, increase the number of iterations.\n",
      "  warnings.warn(\n",
      "C:\\Users\\infoMix\\AppData\\Roaming\\Python\\Python39\\site-packages\\sklearn\\svm\\_base.py:1244: ConvergenceWarning: Liblinear failed to converge, increase the number of iterations.\n",
      "  warnings.warn(\n"
     ]
    },
    {
     "name": "stdout",
     "output_type": "stream",
     "text": [
      "Meilleurs paramètres : \n",
      "{'clf__C': 10, 'clf__max_iter': 500}\n",
      "Score sur l'ensemble de validation : \n",
      "0.9368635437881874\n",
      "Precision: 0.9404534504680379\n",
      "Score F1 sur l'ensemble de test: 0.9404190751981092\n",
      "Accuracy sur l'ensemble de test: 0.9410806407819712\n"
     ]
    },
    {
     "name": "stderr",
     "output_type": "stream",
     "text": [
      "C:\\Users\\infoMix\\AppData\\Roaming\\Python\\Python39\\site-packages\\sklearn\\svm\\_base.py:1244: ConvergenceWarning: Liblinear failed to converge, increase the number of iterations.\n",
      "  warnings.warn(\n",
      "C:\\Users\\infoMix\\AppData\\Roaming\\Python\\Python39\\site-packages\\sklearn\\metrics\\_classification.py:1344: UndefinedMetricWarning: Precision is ill-defined and being set to 0.0 in labels with no predicted samples. Use `zero_division` parameter to control this behavior.\n",
      "  _warn_prf(average, modifier, msg_start, len(result))\n"
     ]
    }
   ],
   "source": [
    "def main():\n",
    "    chemin_dossier = \"C:/Users/infoMix/Desktop/PFE/Deutch\"\n",
    "    \n",
    "    # Charger les fichiers CSV\n",
    "    df = charger_fichiers_csv(chemin_dossier)\n",
    "    \n",
    "    mots_cles = ['pflege', 'makeup', 'sonne', 'körper', 'düfte', 'haare', 'gesicht', 'gesundheit',\n",
    "                 'lebensmittel', 'tier', 'baby spielzeug', 'home lifestyle', 'parfum',\n",
    "                 'apotheke gesundheit', 'haushalt', 'ernährung']\n",
    "    \n",
    "    # Prétraitement des colonnes 'category' et 'description'\n",
    "    df['category'] = df['category'].astype(str)\n",
    "    df['description'] = df['description'].astype(str)\n",
    "    df['category'] = df['category'].apply(preprocess_text)\n",
    "    df['description'] = df['description'].apply(preprocess_text)\n",
    "    df = df.dropna()\n",
    "    \n",
    "    # Regrouper les catégories en utilisant des mots-clés\n",
    "    df = regrouper_categories(df, mots_cles)\n",
    "    \n",
    "    # Entraîner le modèle en utilisant la fonction train_linear_svc_model\n",
    "    best_clf, X_test_tfidf, y_test = train_linear_svc_model(df)\n",
    "    \n",
    "    # Évaluer le modèle et enregistrer le modèle entraîné\n",
    "    evaluate_and_save_model(best_clf, X_test_tfidf, y_test, 'model.pkl')\n",
    "\n",
    "# Appel de la fonction main\n",
    "if __name__ == \"__main__\":\n",
    "    main()"
   ]
  },
  {
   "cell_type": "code",
   "execution_count": null,
   "id": "b82b7d2a",
   "metadata": {},
   "outputs": [],
   "source": []
  },
  {
   "cell_type": "code",
   "execution_count": null,
   "id": "853884b3",
   "metadata": {},
   "outputs": [],
   "source": []
  },
  {
   "cell_type": "code",
   "execution_count": null,
   "id": "650b17ae",
   "metadata": {},
   "outputs": [],
   "source": []
  },
  {
   "cell_type": "code",
   "execution_count": null,
   "id": "c210c9f7",
   "metadata": {},
   "outputs": [],
   "source": []
  },
  {
   "cell_type": "code",
   "execution_count": null,
   "id": "1469fbb0",
   "metadata": {},
   "outputs": [],
   "source": []
  },
  {
   "cell_type": "code",
   "execution_count": null,
   "id": "b4167e65",
   "metadata": {},
   "outputs": [],
   "source": []
  },
  {
   "cell_type": "code",
   "execution_count": null,
   "id": "a4f60487",
   "metadata": {},
   "outputs": [],
   "source": []
  },
  {
   "cell_type": "code",
   "execution_count": null,
   "id": "4e0b8012",
   "metadata": {},
   "outputs": [],
   "source": []
  },
  {
   "cell_type": "code",
   "execution_count": null,
   "id": "76fb6da7",
   "metadata": {},
   "outputs": [],
   "source": []
  },
  {
   "cell_type": "code",
   "execution_count": null,
   "id": "2b8677c5",
   "metadata": {},
   "outputs": [],
   "source": []
  }
 ],
 "metadata": {
  "kernelspec": {
   "display_name": "Python 3 (ipykernel)",
   "language": "python",
   "name": "python3"
  },
  "language_info": {
   "codemirror_mode": {
    "name": "ipython",
    "version": 3
   },
   "file_extension": ".py",
   "mimetype": "text/x-python",
   "name": "python",
   "nbconvert_exporter": "python",
   "pygments_lexer": "ipython3",
   "version": "3.9.13"
  }
 },
 "nbformat": 4,
 "nbformat_minor": 5
}
